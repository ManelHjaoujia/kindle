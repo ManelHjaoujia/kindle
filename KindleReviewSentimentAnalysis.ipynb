{
 "cells": [
  {
   "metadata": {},
   "cell_type": "markdown",
   "source": [
    "### About Dataset\n",
    "Context This is a small subset of dataset of Book reviews from Amazon Kindle Store category.\n",
    "\n",
    "\n",
    "Content 5-core dataset of product reviews from Amazon Kindle Store category from May 1996 - July 2014. Contains total of 982619 entries. Each reviewer has at least 5 reviews and each product has at least 5 reviews in this dataset. Columns :\n",
    "\n",
    "* asin - ID of the product, like B000FA64PK\n",
    "* helpful - helpfulness rating of the review - example: 2/3.\n",
    "* overall - rating of the product.\n",
    "* reviewText - text of the review (heading).\n",
    "* reviewTime - time of the review (raw).\n",
    "* reviewerID - ID of the reviewer, like A3SPTOKDG7WBLN\n",
    "* reviewerName - name of the reviewer.\n",
    "* summary - summary of the review (description).\n",
    "* unixReviewTime - unix timestamp.\n",
    "\n",
    "Acknowledgements This dataset is taken from Amazon product data, Julian McAuley, UCSD website. http://jmcauley.ucsd.edu/data/amazon/\n",
    "\n",
    "License to the data files belong to them.\n",
    "\n",
    "Inspiration\n",
    "\n",
    "* Sentiment analysis on reviews.\n",
    "* Understanding how people rate usefulness of a review/ What factors influence helpfulness of a review.\n",
    "* Fake reviews/ outliers.\n",
    "* Best rated product IDs, or similarity between products based on reviews alone (not the best idea ikr).\n",
    "* Any other interesting analysis\n",
    "\n",
    "Best Practises :\n",
    " * Preprocessing And Cleaning\n",
    " * Train Test Split\n",
    " * BOW,TFIDF,Word2vec\n",
    " * Train ML algorithms"
   ],
   "id": "61ea1eefd56ff740"
  },
  {
   "metadata": {
    "ExecuteTime": {
     "end_time": "2025-10-15T17:48:36.829606Z",
     "start_time": "2025-10-15T17:48:23.594976Z"
    }
   },
   "cell_type": "code",
   "source": [
    "# Load the dataset\n",
    "import pandas as pd\n",
    "data=pd.read_csv('kindle_review.csv')\n",
    "data.head()"
   ],
   "id": "125ed4bddb533533",
   "outputs": [
    {
     "data": {
      "text/plain": [
       "   Unnamed: 0        asin helpful  overall  \\\n",
       "0           0  B000F83SZQ  [0, 0]        5   \n",
       "1           1  B000F83SZQ  [2, 2]        4   \n",
       "2           2  B000F83SZQ  [2, 2]        4   \n",
       "3           3  B000F83SZQ  [1, 1]        5   \n",
       "4           4  B000F83SZQ  [0, 1]        4   \n",
       "\n",
       "                                          reviewText   reviewTime  \\\n",
       "0  I enjoy vintage books and movies so I enjoyed ...   05 5, 2014   \n",
       "1  This book is a reissue of an old one; the auth...   01 6, 2014   \n",
       "2  This was a fairly interesting read.  It had ol...   04 4, 2014   \n",
       "3  I'd never read any of the Amy Brewster mysteri...  02 19, 2014   \n",
       "4  If you like period pieces - clothing, lingo, y...  03 19, 2014   \n",
       "\n",
       "       reviewerID                         reviewerName             summary  \\\n",
       "0  A1F6404F1VG29J                           Avidreader  Nice vintage story   \n",
       "1   AN0N05A9LIJEQ                             critters        Different...   \n",
       "2   A795DMNCJILA6                                  dot               Oldie   \n",
       "3  A1FV0SX13TWVXQ  Elaine H. Turley \"Montana Songbird\"  I really liked it.   \n",
       "4  A3SPTOKDG7WBLN                   Father Dowling Fan      Period Mystery   \n",
       "\n",
       "   unixReviewTime  \n",
       "0      1399248000  \n",
       "1      1388966400  \n",
       "2      1396569600  \n",
       "3      1392768000  \n",
       "4      1395187200  "
      ],
      "text/html": [
       "<div>\n",
       "<style scoped>\n",
       "    .dataframe tbody tr th:only-of-type {\n",
       "        vertical-align: middle;\n",
       "    }\n",
       "\n",
       "    .dataframe tbody tr th {\n",
       "        vertical-align: top;\n",
       "    }\n",
       "\n",
       "    .dataframe thead th {\n",
       "        text-align: right;\n",
       "    }\n",
       "</style>\n",
       "<table border=\"1\" class=\"dataframe\">\n",
       "  <thead>\n",
       "    <tr style=\"text-align: right;\">\n",
       "      <th></th>\n",
       "      <th>Unnamed: 0</th>\n",
       "      <th>asin</th>\n",
       "      <th>helpful</th>\n",
       "      <th>overall</th>\n",
       "      <th>reviewText</th>\n",
       "      <th>reviewTime</th>\n",
       "      <th>reviewerID</th>\n",
       "      <th>reviewerName</th>\n",
       "      <th>summary</th>\n",
       "      <th>unixReviewTime</th>\n",
       "    </tr>\n",
       "  </thead>\n",
       "  <tbody>\n",
       "    <tr>\n",
       "      <th>0</th>\n",
       "      <td>0</td>\n",
       "      <td>B000F83SZQ</td>\n",
       "      <td>[0, 0]</td>\n",
       "      <td>5</td>\n",
       "      <td>I enjoy vintage books and movies so I enjoyed ...</td>\n",
       "      <td>05 5, 2014</td>\n",
       "      <td>A1F6404F1VG29J</td>\n",
       "      <td>Avidreader</td>\n",
       "      <td>Nice vintage story</td>\n",
       "      <td>1399248000</td>\n",
       "    </tr>\n",
       "    <tr>\n",
       "      <th>1</th>\n",
       "      <td>1</td>\n",
       "      <td>B000F83SZQ</td>\n",
       "      <td>[2, 2]</td>\n",
       "      <td>4</td>\n",
       "      <td>This book is a reissue of an old one; the auth...</td>\n",
       "      <td>01 6, 2014</td>\n",
       "      <td>AN0N05A9LIJEQ</td>\n",
       "      <td>critters</td>\n",
       "      <td>Different...</td>\n",
       "      <td>1388966400</td>\n",
       "    </tr>\n",
       "    <tr>\n",
       "      <th>2</th>\n",
       "      <td>2</td>\n",
       "      <td>B000F83SZQ</td>\n",
       "      <td>[2, 2]</td>\n",
       "      <td>4</td>\n",
       "      <td>This was a fairly interesting read.  It had ol...</td>\n",
       "      <td>04 4, 2014</td>\n",
       "      <td>A795DMNCJILA6</td>\n",
       "      <td>dot</td>\n",
       "      <td>Oldie</td>\n",
       "      <td>1396569600</td>\n",
       "    </tr>\n",
       "    <tr>\n",
       "      <th>3</th>\n",
       "      <td>3</td>\n",
       "      <td>B000F83SZQ</td>\n",
       "      <td>[1, 1]</td>\n",
       "      <td>5</td>\n",
       "      <td>I'd never read any of the Amy Brewster mysteri...</td>\n",
       "      <td>02 19, 2014</td>\n",
       "      <td>A1FV0SX13TWVXQ</td>\n",
       "      <td>Elaine H. Turley \"Montana Songbird\"</td>\n",
       "      <td>I really liked it.</td>\n",
       "      <td>1392768000</td>\n",
       "    </tr>\n",
       "    <tr>\n",
       "      <th>4</th>\n",
       "      <td>4</td>\n",
       "      <td>B000F83SZQ</td>\n",
       "      <td>[0, 1]</td>\n",
       "      <td>4</td>\n",
       "      <td>If you like period pieces - clothing, lingo, y...</td>\n",
       "      <td>03 19, 2014</td>\n",
       "      <td>A3SPTOKDG7WBLN</td>\n",
       "      <td>Father Dowling Fan</td>\n",
       "      <td>Period Mystery</td>\n",
       "      <td>1395187200</td>\n",
       "    </tr>\n",
       "  </tbody>\n",
       "</table>\n",
       "</div>"
      ]
     },
     "execution_count": 1,
     "metadata": {},
     "output_type": "execute_result"
    }
   ],
   "execution_count": 1
  },
  {
   "metadata": {
    "ExecuteTime": {
     "end_time": "2025-10-15T17:52:05.028359Z",
     "start_time": "2025-10-15T17:52:04.884675Z"
    }
   },
   "cell_type": "code",
   "source": [
    "df=data[['reviewText','overall']]\n",
    "df.head()"
   ],
   "id": "345f186de56930e5",
   "outputs": [
    {
     "data": {
      "text/plain": [
       "                                          reviewText  overall\n",
       "0  I enjoy vintage books and movies so I enjoyed ...        5\n",
       "1  This book is a reissue of an old one; the auth...        4\n",
       "2  This was a fairly interesting read.  It had ol...        4\n",
       "3  I'd never read any of the Amy Brewster mysteri...        5\n",
       "4  If you like period pieces - clothing, lingo, y...        4"
      ],
      "text/html": [
       "<div>\n",
       "<style scoped>\n",
       "    .dataframe tbody tr th:only-of-type {\n",
       "        vertical-align: middle;\n",
       "    }\n",
       "\n",
       "    .dataframe tbody tr th {\n",
       "        vertical-align: top;\n",
       "    }\n",
       "\n",
       "    .dataframe thead th {\n",
       "        text-align: right;\n",
       "    }\n",
       "</style>\n",
       "<table border=\"1\" class=\"dataframe\">\n",
       "  <thead>\n",
       "    <tr style=\"text-align: right;\">\n",
       "      <th></th>\n",
       "      <th>reviewText</th>\n",
       "      <th>overall</th>\n",
       "    </tr>\n",
       "  </thead>\n",
       "  <tbody>\n",
       "    <tr>\n",
       "      <th>0</th>\n",
       "      <td>I enjoy vintage books and movies so I enjoyed ...</td>\n",
       "      <td>5</td>\n",
       "    </tr>\n",
       "    <tr>\n",
       "      <th>1</th>\n",
       "      <td>This book is a reissue of an old one; the auth...</td>\n",
       "      <td>4</td>\n",
       "    </tr>\n",
       "    <tr>\n",
       "      <th>2</th>\n",
       "      <td>This was a fairly interesting read.  It had ol...</td>\n",
       "      <td>4</td>\n",
       "    </tr>\n",
       "    <tr>\n",
       "      <th>3</th>\n",
       "      <td>I'd never read any of the Amy Brewster mysteri...</td>\n",
       "      <td>5</td>\n",
       "    </tr>\n",
       "    <tr>\n",
       "      <th>4</th>\n",
       "      <td>If you like period pieces - clothing, lingo, y...</td>\n",
       "      <td>4</td>\n",
       "    </tr>\n",
       "  </tbody>\n",
       "</table>\n",
       "</div>"
      ]
     },
     "execution_count": 4,
     "metadata": {},
     "output_type": "execute_result"
    }
   ],
   "execution_count": 4
  },
  {
   "metadata": {
    "ExecuteTime": {
     "end_time": "2025-10-15T17:52:15.892886Z",
     "start_time": "2025-10-15T17:52:15.881746Z"
    }
   },
   "cell_type": "code",
   "source": "df.shape",
   "id": "4e6dc99e7de4cecc",
   "outputs": [
    {
     "data": {
      "text/plain": [
       "(982619, 2)"
      ]
     },
     "execution_count": 5,
     "metadata": {},
     "output_type": "execute_result"
    }
   ],
   "execution_count": 5
  },
  {
   "metadata": {
    "ExecuteTime": {
     "end_time": "2025-10-15T17:52:34.693952Z",
     "start_time": "2025-10-15T17:52:34.565913Z"
    }
   },
   "cell_type": "code",
   "source": [
    "## Missing Values\n",
    "df.isnull().sum()"
   ],
   "id": "ebab78db8f5a7e5",
   "outputs": [
    {
     "data": {
      "text/plain": [
       "reviewText    22\n",
       "overall        0\n",
       "dtype: int64"
      ]
     },
     "execution_count": 6,
     "metadata": {},
     "output_type": "execute_result"
    }
   ],
   "execution_count": 6
  },
  {
   "metadata": {
    "ExecuteTime": {
     "end_time": "2025-10-15T17:53:40.244453Z",
     "start_time": "2025-10-15T17:53:40.220222Z"
    }
   },
   "cell_type": "code",
   "source": "df['overall'].unique()",
   "id": "cc30949fc0dce561",
   "outputs": [
    {
     "data": {
      "text/plain": [
       "array([5, 4, 3, 2, 1], dtype=int64)"
      ]
     },
     "execution_count": 7,
     "metadata": {},
     "output_type": "execute_result"
    }
   ],
   "execution_count": 7
  },
  {
   "metadata": {
    "ExecuteTime": {
     "end_time": "2025-10-15T17:53:58.233080Z",
     "start_time": "2025-10-15T17:53:58.210838Z"
    }
   },
   "cell_type": "code",
   "source": "df['overall'].value_counts()",
   "id": "f50af556e2e671c5",
   "outputs": [
    {
     "data": {
      "text/plain": [
       "overall\n",
       "5    575264\n",
       "4    254013\n",
       "3     96194\n",
       "2     34130\n",
       "1     23018\n",
       "Name: count, dtype: int64"
      ]
     },
     "execution_count": 8,
     "metadata": {},
     "output_type": "execute_result"
    }
   ],
   "execution_count": 8
  },
  {
   "metadata": {},
   "cell_type": "markdown",
   "source": "## Preprocessing And Cleaning",
   "id": "e2b09617c9bdf144"
  },
  {
   "metadata": {
    "ExecuteTime": {
     "end_time": "2025-10-15T17:54:52.652818Z",
     "start_time": "2025-10-15T17:54:52.237447Z"
    }
   },
   "cell_type": "code",
   "source": [
    "## postive review is 1 and negative review is 0\n",
    "df['overall']=df['overall'].apply(lambda x:0 if x<3 else 1)"
   ],
   "id": "3ad18ecd8331c050",
   "outputs": [
    {
     "name": "stderr",
     "output_type": "stream",
     "text": [
      "C:\\Users\\LENOVO_PC\\AppData\\Local\\Temp\\ipykernel_5004\\3798119630.py:2: SettingWithCopyWarning: \n",
      "A value is trying to be set on a copy of a slice from a DataFrame.\n",
      "Try using .loc[row_indexer,col_indexer] = value instead\n",
      "\n",
      "See the caveats in the documentation: https://pandas.pydata.org/pandas-docs/stable/user_guide/indexing.html#returning-a-view-versus-a-copy\n",
      "  df['overall']=df['overall'].apply(lambda x:0 if x<3 else 1)\n"
     ]
    }
   ],
   "execution_count": 9
  },
  {
   "metadata": {
    "ExecuteTime": {
     "end_time": "2025-10-15T17:55:23.183131Z",
     "start_time": "2025-10-15T17:55:23.153108Z"
    }
   },
   "cell_type": "code",
   "source": "df['overall'].value_counts()",
   "id": "ffaffa0c4d332862",
   "outputs": [
    {
     "data": {
      "text/plain": [
       "overall\n",
       "1    925471\n",
       "0     57148\n",
       "Name: count, dtype: int64"
      ]
     },
     "execution_count": 10,
     "metadata": {},
     "output_type": "execute_result"
    }
   ],
   "execution_count": 10
  },
  {
   "metadata": {
    "ExecuteTime": {
     "end_time": "2025-10-15T17:56:02.069812Z",
     "start_time": "2025-10-15T17:56:00.883828Z"
    }
   },
   "cell_type": "code",
   "source": [
    "## 1. Lower All the cases\n",
    "df['reviewText']=df['reviewText'].str.lower()"
   ],
   "id": "9bc8b4cc8afccad3",
   "outputs": [
    {
     "name": "stderr",
     "output_type": "stream",
     "text": [
      "C:\\Users\\LENOVO_PC\\AppData\\Local\\Temp\\ipykernel_5004\\1575876351.py:2: SettingWithCopyWarning: \n",
      "A value is trying to be set on a copy of a slice from a DataFrame.\n",
      "Try using .loc[row_indexer,col_indexer] = value instead\n",
      "\n",
      "See the caveats in the documentation: https://pandas.pydata.org/pandas-docs/stable/user_guide/indexing.html#returning-a-view-versus-a-copy\n",
      "  df['reviewText']=df['reviewText'].str.lower()\n"
     ]
    }
   ],
   "execution_count": 11
  },
  {
   "metadata": {
    "ExecuteTime": {
     "end_time": "2025-10-15T17:56:18.100503Z",
     "start_time": "2025-10-15T17:56:18.079781Z"
    }
   },
   "cell_type": "code",
   "source": "df.head()",
   "id": "7b2a27893eb65f69",
   "outputs": [
    {
     "data": {
      "text/plain": [
       "                                          reviewText  overall\n",
       "0  i enjoy vintage books and movies so i enjoyed ...        1\n",
       "1  this book is a reissue of an old one; the auth...        1\n",
       "2  this was a fairly interesting read.  it had ol...        1\n",
       "3  i'd never read any of the amy brewster mysteri...        1\n",
       "4  if you like period pieces - clothing, lingo, y...        1"
      ],
      "text/html": [
       "<div>\n",
       "<style scoped>\n",
       "    .dataframe tbody tr th:only-of-type {\n",
       "        vertical-align: middle;\n",
       "    }\n",
       "\n",
       "    .dataframe tbody tr th {\n",
       "        vertical-align: top;\n",
       "    }\n",
       "\n",
       "    .dataframe thead th {\n",
       "        text-align: right;\n",
       "    }\n",
       "</style>\n",
       "<table border=\"1\" class=\"dataframe\">\n",
       "  <thead>\n",
       "    <tr style=\"text-align: right;\">\n",
       "      <th></th>\n",
       "      <th>reviewText</th>\n",
       "      <th>overall</th>\n",
       "    </tr>\n",
       "  </thead>\n",
       "  <tbody>\n",
       "    <tr>\n",
       "      <th>0</th>\n",
       "      <td>i enjoy vintage books and movies so i enjoyed ...</td>\n",
       "      <td>1</td>\n",
       "    </tr>\n",
       "    <tr>\n",
       "      <th>1</th>\n",
       "      <td>this book is a reissue of an old one; the auth...</td>\n",
       "      <td>1</td>\n",
       "    </tr>\n",
       "    <tr>\n",
       "      <th>2</th>\n",
       "      <td>this was a fairly interesting read.  it had ol...</td>\n",
       "      <td>1</td>\n",
       "    </tr>\n",
       "    <tr>\n",
       "      <th>3</th>\n",
       "      <td>i'd never read any of the amy brewster mysteri...</td>\n",
       "      <td>1</td>\n",
       "    </tr>\n",
       "    <tr>\n",
       "      <th>4</th>\n",
       "      <td>if you like period pieces - clothing, lingo, y...</td>\n",
       "      <td>1</td>\n",
       "    </tr>\n",
       "  </tbody>\n",
       "</table>\n",
       "</div>"
      ]
     },
     "execution_count": 12,
     "metadata": {},
     "output_type": "execute_result"
    }
   ],
   "execution_count": 12
  },
  {
   "metadata": {
    "ExecuteTime": {
     "end_time": "2025-10-15T17:56:37.953270Z",
     "start_time": "2025-10-15T17:56:34.566435Z"
    }
   },
   "cell_type": "code",
   "source": [
    "import re\n",
    "import nltk\n",
    "from nltk.corpus import stopwords\n",
    "nltk.download('stopwords')"
   ],
   "id": "edbd3a3e9b27af8b",
   "outputs": [
    {
     "name": "stderr",
     "output_type": "stream",
     "text": [
      "[nltk_data] Downloading package stopwords to\n",
      "[nltk_data]     C:\\Users\\LENOVO_PC\\AppData\\Roaming\\nltk_data...\n",
      "[nltk_data]   Package stopwords is already up-to-date!\n"
     ]
    },
    {
     "data": {
      "text/plain": [
       "True"
      ]
     },
     "execution_count": 13,
     "metadata": {},
     "output_type": "execute_result"
    }
   ],
   "execution_count": 13
  },
  {
   "metadata": {
    "ExecuteTime": {
     "end_time": "2025-10-15T17:56:55.313078Z",
     "start_time": "2025-10-15T17:56:55.120325Z"
    }
   },
   "cell_type": "code",
   "source": "from bs4 import BeautifulSoup",
   "id": "ec5491bd3df804a8",
   "outputs": [],
   "execution_count": 14
  },
  {
   "metadata": {
    "ExecuteTime": {
     "end_time": "2025-10-15T18:06:10.091987Z",
     "start_time": "2025-10-15T18:04:33.482425Z"
    }
   },
   "cell_type": "code",
   "source": [
    "# Convert all entries to string (avoid TypeError)\n",
    "df['reviewText'] = df['reviewText'].astype(str)\n",
    "\n",
    "# Remove special characters\n",
    "df['reviewText'] = df['reviewText'].apply(lambda x: re.sub(r'[^a-zA-Z0-9\\s-]', '', x))\n",
    "\n",
    "# Remove stopwords\n",
    "stops = set(stopwords.words('english'))\n",
    "df['reviewText'] = df['reviewText'].apply(lambda x: \" \".join([word for word in x.split() if word.lower() not in stops]))\n",
    "\n",
    "# Remove URLs\n",
    "df['reviewText'] = df['reviewText'].apply(lambda x: re.sub(r'(http|https|ftp|ssh)://[^\\s]+', '', x))\n",
    "\n",
    "# Remove HTML tags\n",
    "df['reviewText'] = df['reviewText'].apply(lambda x: BeautifulSoup(x, 'html.parser').get_text())\n",
    "\n",
    "# Remove extra spaces\n",
    "df['reviewText'] = df['reviewText'].apply(lambda x: \" \".join(x.split()))"
   ],
   "id": "19476260cf0bd425",
   "outputs": [
    {
     "name": "stderr",
     "output_type": "stream",
     "text": [
      "C:\\Users\\LENOVO_PC\\AppData\\Local\\Temp\\ipykernel_5004\\2459588370.py:2: SettingWithCopyWarning: \n",
      "A value is trying to be set on a copy of a slice from a DataFrame.\n",
      "Try using .loc[row_indexer,col_indexer] = value instead\n",
      "\n",
      "See the caveats in the documentation: https://pandas.pydata.org/pandas-docs/stable/user_guide/indexing.html#returning-a-view-versus-a-copy\n",
      "  df['reviewText'] = df['reviewText'].astype(str)\n",
      "C:\\Users\\LENOVO_PC\\AppData\\Local\\Temp\\ipykernel_5004\\2459588370.py:5: SettingWithCopyWarning: \n",
      "A value is trying to be set on a copy of a slice from a DataFrame.\n",
      "Try using .loc[row_indexer,col_indexer] = value instead\n",
      "\n",
      "See the caveats in the documentation: https://pandas.pydata.org/pandas-docs/stable/user_guide/indexing.html#returning-a-view-versus-a-copy\n",
      "  df['reviewText'] = df['reviewText'].apply(lambda x: re.sub(r'[^a-zA-Z0-9\\s-]', '', x))\n",
      "C:\\Users\\LENOVO_PC\\AppData\\Local\\Temp\\ipykernel_5004\\2459588370.py:9: SettingWithCopyWarning: \n",
      "A value is trying to be set on a copy of a slice from a DataFrame.\n",
      "Try using .loc[row_indexer,col_indexer] = value instead\n",
      "\n",
      "See the caveats in the documentation: https://pandas.pydata.org/pandas-docs/stable/user_guide/indexing.html#returning-a-view-versus-a-copy\n",
      "  df['reviewText'] = df['reviewText'].apply(lambda x: \" \".join([word for word in x.split() if word.lower() not in stops]))\n",
      "C:\\Users\\LENOVO_PC\\AppData\\Local\\Temp\\ipykernel_5004\\2459588370.py:12: SettingWithCopyWarning: \n",
      "A value is trying to be set on a copy of a slice from a DataFrame.\n",
      "Try using .loc[row_indexer,col_indexer] = value instead\n",
      "\n",
      "See the caveats in the documentation: https://pandas.pydata.org/pandas-docs/stable/user_guide/indexing.html#returning-a-view-versus-a-copy\n",
      "  df['reviewText'] = df['reviewText'].apply(lambda x: re.sub(r'(http|https|ftp|ssh)://[^\\s]+', '', x))\n",
      "C:\\Users\\LENOVO_PC\\AppData\\Local\\Temp\\ipykernel_5004\\2459588370.py:15: SettingWithCopyWarning: \n",
      "A value is trying to be set on a copy of a slice from a DataFrame.\n",
      "Try using .loc[row_indexer,col_indexer] = value instead\n",
      "\n",
      "See the caveats in the documentation: https://pandas.pydata.org/pandas-docs/stable/user_guide/indexing.html#returning-a-view-versus-a-copy\n",
      "  df['reviewText'] = df['reviewText'].apply(lambda x: BeautifulSoup(x, 'html.parser').get_text())\n",
      "C:\\Users\\LENOVO_PC\\AppData\\Local\\Temp\\ipykernel_5004\\2459588370.py:18: SettingWithCopyWarning: \n",
      "A value is trying to be set on a copy of a slice from a DataFrame.\n",
      "Try using .loc[row_indexer,col_indexer] = value instead\n",
      "\n",
      "See the caveats in the documentation: https://pandas.pydata.org/pandas-docs/stable/user_guide/indexing.html#returning-a-view-versus-a-copy\n",
      "  df['reviewText'] = df['reviewText'].apply(lambda x: \" \".join(x.split()))\n"
     ]
    }
   ],
   "execution_count": 19
  },
  {
   "metadata": {
    "ExecuteTime": {
     "end_time": "2025-10-15T18:07:11.811358Z",
     "start_time": "2025-10-15T18:07:11.781225Z"
    }
   },
   "cell_type": "code",
   "source": "df.head()",
   "id": "6c0a84c7f66e06d1",
   "outputs": [
    {
     "data": {
      "text/plain": [
       "                                          reviewText  overall\n",
       "0  enjoy vintage books movies enjoyed reading boo...        1\n",
       "1  book reissue old one author born 1910 era say ...        1\n",
       "2  fairly interesting read old- style terminology...        1\n",
       "3  id never read amy brewster mysteries one reall...        1\n",
       "4  like period pieces - clothing lingo enjoy myst...        1"
      ],
      "text/html": [
       "<div>\n",
       "<style scoped>\n",
       "    .dataframe tbody tr th:only-of-type {\n",
       "        vertical-align: middle;\n",
       "    }\n",
       "\n",
       "    .dataframe tbody tr th {\n",
       "        vertical-align: top;\n",
       "    }\n",
       "\n",
       "    .dataframe thead th {\n",
       "        text-align: right;\n",
       "    }\n",
       "</style>\n",
       "<table border=\"1\" class=\"dataframe\">\n",
       "  <thead>\n",
       "    <tr style=\"text-align: right;\">\n",
       "      <th></th>\n",
       "      <th>reviewText</th>\n",
       "      <th>overall</th>\n",
       "    </tr>\n",
       "  </thead>\n",
       "  <tbody>\n",
       "    <tr>\n",
       "      <th>0</th>\n",
       "      <td>enjoy vintage books movies enjoyed reading boo...</td>\n",
       "      <td>1</td>\n",
       "    </tr>\n",
       "    <tr>\n",
       "      <th>1</th>\n",
       "      <td>book reissue old one author born 1910 era say ...</td>\n",
       "      <td>1</td>\n",
       "    </tr>\n",
       "    <tr>\n",
       "      <th>2</th>\n",
       "      <td>fairly interesting read old- style terminology...</td>\n",
       "      <td>1</td>\n",
       "    </tr>\n",
       "    <tr>\n",
       "      <th>3</th>\n",
       "      <td>id never read amy brewster mysteries one reall...</td>\n",
       "      <td>1</td>\n",
       "    </tr>\n",
       "    <tr>\n",
       "      <th>4</th>\n",
       "      <td>like period pieces - clothing lingo enjoy myst...</td>\n",
       "      <td>1</td>\n",
       "    </tr>\n",
       "  </tbody>\n",
       "</table>\n",
       "</div>"
      ]
     },
     "execution_count": 20,
     "metadata": {},
     "output_type": "execute_result"
    }
   ],
   "execution_count": 20
  },
  {
   "metadata": {
    "ExecuteTime": {
     "end_time": "2025-10-15T18:07:20.290121Z",
     "start_time": "2025-10-15T18:07:20.280749Z"
    }
   },
   "cell_type": "code",
   "source": [
    "## Lemmatizer\n",
    "from nltk.stem import WordNetLemmatizer\n",
    "lemmatizer=WordNetLemmatizer()\n",
    "def lemmatize_words(text):\n",
    "    return \" \".join([lemmatizer.lemmatize(word) for word in text.split()])"
   ],
   "id": "99bde42fc719ed74",
   "outputs": [],
   "execution_count": 21
  },
  {
   "metadata": {
    "ExecuteTime": {
     "end_time": "2025-10-15T18:12:12.283880Z",
     "start_time": "2025-10-15T18:07:22.906862Z"
    }
   },
   "cell_type": "code",
   "source": "df['reviewText']=df['reviewText'].apply(lambda x:lemmatize_words(x))",
   "id": "f8f3ae829249f656",
   "outputs": [
    {
     "name": "stderr",
     "output_type": "stream",
     "text": [
      "C:\\Users\\LENOVO_PC\\AppData\\Local\\Temp\\ipykernel_5004\\2952431003.py:1: SettingWithCopyWarning: \n",
      "A value is trying to be set on a copy of a slice from a DataFrame.\n",
      "Try using .loc[row_indexer,col_indexer] = value instead\n",
      "\n",
      "See the caveats in the documentation: https://pandas.pydata.org/pandas-docs/stable/user_guide/indexing.html#returning-a-view-versus-a-copy\n",
      "  df['reviewText']=df['reviewText'].apply(lambda x:lemmatize_words(x))\n"
     ]
    }
   ],
   "execution_count": 22
  },
  {
   "metadata": {
    "ExecuteTime": {
     "end_time": "2025-10-15T18:13:13.183507Z",
     "start_time": "2025-10-15T18:13:13.153636Z"
    }
   },
   "cell_type": "code",
   "source": "df.head()",
   "id": "2f5add4302a2757c",
   "outputs": [
    {
     "data": {
      "text/plain": [
       "                                          reviewText  overall\n",
       "0  enjoy vintage book movie enjoyed reading book ...        1\n",
       "1  book reissue old one author born 1910 era say ...        1\n",
       "2  fairly interesting read old- style terminology...        1\n",
       "3  id never read amy brewster mystery one really ...        1\n",
       "4  like period piece - clothing lingo enjoy myste...        1"
      ],
      "text/html": [
       "<div>\n",
       "<style scoped>\n",
       "    .dataframe tbody tr th:only-of-type {\n",
       "        vertical-align: middle;\n",
       "    }\n",
       "\n",
       "    .dataframe tbody tr th {\n",
       "        vertical-align: top;\n",
       "    }\n",
       "\n",
       "    .dataframe thead th {\n",
       "        text-align: right;\n",
       "    }\n",
       "</style>\n",
       "<table border=\"1\" class=\"dataframe\">\n",
       "  <thead>\n",
       "    <tr style=\"text-align: right;\">\n",
       "      <th></th>\n",
       "      <th>reviewText</th>\n",
       "      <th>overall</th>\n",
       "    </tr>\n",
       "  </thead>\n",
       "  <tbody>\n",
       "    <tr>\n",
       "      <th>0</th>\n",
       "      <td>enjoy vintage book movie enjoyed reading book ...</td>\n",
       "      <td>1</td>\n",
       "    </tr>\n",
       "    <tr>\n",
       "      <th>1</th>\n",
       "      <td>book reissue old one author born 1910 era say ...</td>\n",
       "      <td>1</td>\n",
       "    </tr>\n",
       "    <tr>\n",
       "      <th>2</th>\n",
       "      <td>fairly interesting read old- style terminology...</td>\n",
       "      <td>1</td>\n",
       "    </tr>\n",
       "    <tr>\n",
       "      <th>3</th>\n",
       "      <td>id never read amy brewster mystery one really ...</td>\n",
       "      <td>1</td>\n",
       "    </tr>\n",
       "    <tr>\n",
       "      <th>4</th>\n",
       "      <td>like period piece - clothing lingo enjoy myste...</td>\n",
       "      <td>1</td>\n",
       "    </tr>\n",
       "  </tbody>\n",
       "</table>\n",
       "</div>"
      ]
     },
     "execution_count": 23,
     "metadata": {},
     "output_type": "execute_result"
    }
   ],
   "execution_count": 23
  },
  {
   "metadata": {
    "ExecuteTime": {
     "end_time": "2025-10-15T18:14:07.881467Z",
     "start_time": "2025-10-15T18:14:07.326254Z"
    }
   },
   "cell_type": "code",
   "source": [
    "## Train Test Split\n",
    "from sklearn.model_selection import train_test_split\n",
    "X_train,X_test,y_train,y_test=train_test_split(df['reviewText'],df['overall'],\n",
    "                                              test_size=0.20)"
   ],
   "id": "70fc3301dab4f0f7",
   "outputs": [],
   "execution_count": 24
  },
  {
   "metadata": {
    "ExecuteTime": {
     "end_time": "2025-10-15T18:29:07.716611Z",
     "start_time": "2025-10-15T18:28:06.781004Z"
    }
   },
   "cell_type": "code",
   "source": [
    "from sklearn.feature_extraction.text import CountVectorizer\n",
    "bow=CountVectorizer(max_features=2000)\n",
    "X_train_bow=bow.fit_transform(X_train)\n",
    "X_test_bow=bow.transform(X_test)"
   ],
   "id": "7156fe4165d244eb",
   "outputs": [],
   "execution_count": 27
  },
  {
   "metadata": {
    "ExecuteTime": {
     "end_time": "2025-10-15T18:31:15.464911Z",
     "start_time": "2025-10-15T18:30:14.978553Z"
    }
   },
   "cell_type": "code",
   "source": [
    "from sklearn.feature_extraction.text import TfidfVectorizer\n",
    "tfidf=TfidfVectorizer()\n",
    "X_train_tfidf=tfidf.fit_transform(X_train)\n",
    "X_test_tfidf=tfidf.transform(X_test)"
   ],
   "id": "21a78a1b4b5b1e69",
   "outputs": [],
   "execution_count": 29
  },
  {
   "metadata": {
    "ExecuteTime": {
     "end_time": "2025-10-15T18:32:10.521907Z",
     "start_time": "2025-10-15T18:32:09.651449Z"
    }
   },
   "cell_type": "code",
   "source": [
    "from sklearn.naive_bayes import MultinomialNB\n",
    "nb_model_bow = MultinomialNB().fit(X_train_bow, y_train)\n",
    "nb_model_tfidf = MultinomialNB().fit(X_train_tfidf, y_train)"
   ],
   "id": "d1894f717d07fc89",
   "outputs": [],
   "execution_count": 31
  },
  {
   "metadata": {
    "ExecuteTime": {
     "end_time": "2025-10-15T18:34:03.251153Z",
     "start_time": "2025-10-15T18:34:02.949665Z"
    }
   },
   "cell_type": "code",
   "source": [
    "from sklearn.metrics import confusion_matrix,accuracy_score,classification_report\n",
    "y_pred_bow=nb_model_bow.predict(X_test_bow)\n",
    "y_pred_tfidf=nb_model_tfidf.predict(X_test_tfidf)\n",
    "confusion_matrix(y_test,y_pred_bow)"
   ],
   "id": "fc76824cbc77f5b",
   "outputs": [
    {
     "data": {
      "text/plain": [
       "array([[  7154,   4309],\n",
       "       [ 11245, 173816]], dtype=int64)"
      ]
     },
     "execution_count": 33,
     "metadata": {},
     "output_type": "execute_result"
    }
   ],
   "execution_count": 33
  },
  {
   "metadata": {
    "ExecuteTime": {
     "end_time": "2025-10-15T18:34:09.652612Z",
     "start_time": "2025-10-15T18:34:09.621194Z"
    }
   },
   "cell_type": "code",
   "source": "print(\"BOW accuracy: \",accuracy_score(y_test,y_pred_bow))",
   "id": "b618800fee754ae3",
   "outputs": [
    {
     "name": "stdout",
     "output_type": "stream",
     "text": [
      "BOW accuracy:  0.9208544503470314\n"
     ]
    }
   ],
   "execution_count": 34
  },
  {
   "metadata": {
    "ExecuteTime": {
     "end_time": "2025-10-15T18:34:14.356511Z",
     "start_time": "2025-10-15T18:34:14.319536Z"
    }
   },
   "cell_type": "code",
   "source": "confusion_matrix(y_test,y_pred_tfidf)",
   "id": "972bd75b2fd14da8",
   "outputs": [
    {
     "data": {
      "text/plain": [
       "array([[     2,  11461],\n",
       "       [     0, 185061]], dtype=int64)"
      ]
     },
     "execution_count": 35,
     "metadata": {},
     "output_type": "execute_result"
    }
   ],
   "execution_count": 35
  },
  {
   "metadata": {
    "ExecuteTime": {
     "end_time": "2025-10-15T18:34:17.433665Z",
     "start_time": "2025-10-15T18:34:17.405517Z"
    }
   },
   "cell_type": "code",
   "source": "print(\"TFIDF accuracy: \",accuracy_score(y_test,y_pred_tfidf))",
   "id": "48ccbcef97587bcc",
   "outputs": [
    {
     "name": "stdout",
     "output_type": "stream",
     "text": [
      "TFIDF accuracy:  0.9416814231340701\n"
     ]
    }
   ],
   "execution_count": 36
  }
 ],
 "metadata": {
  "kernelspec": {
   "display_name": "Python 3",
   "language": "python",
   "name": "python3"
  },
  "language_info": {
   "codemirror_mode": {
    "name": "ipython",
    "version": 2
   },
   "file_extension": ".py",
   "mimetype": "text/x-python",
   "name": "python",
   "nbconvert_exporter": "python",
   "pygments_lexer": "ipython2",
   "version": "2.7.6"
  }
 },
 "nbformat": 4,
 "nbformat_minor": 5
}
